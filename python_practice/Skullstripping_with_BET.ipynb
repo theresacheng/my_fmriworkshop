{
 "cells": [
  {
   "cell_type": "markdown",
   "metadata": {},
   "source": [
    "### Skullstripping with BET"
   ]
  },
  {
   "cell_type": "code",
   "execution_count": 11,
   "metadata": {
    "collapsed": false
   },
   "outputs": [],
   "source": [
    "from subprocess import check_call\n",
    "import os\n",
    "from glob import glob"
   ]
  },
  {
   "cell_type": "code",
   "execution_count": 12,
   "metadata": {
    "collapsed": true
   },
   "outputs": [],
   "source": [
    "t1w=\"/Users/theresacheng/Documents/learning/neuroimaging/fmriRepro_UNC2017/data/bids-test/sub-104/ses-wave1/anat/*.nii.gz\""
   ]
  },
  {
   "cell_type": "code",
   "execution_count": 15,
   "metadata": {
    "collapsed": false
   },
   "outputs": [
    {
     "name": "stdout",
     "output_type": "stream",
     "text": [
      "bet /Users/theresacheng/Documents/learning/neuroimaging/fmriRepro_UNC2017/data/bids-test/sub-104/ses-wave1/anat/sub-104_ses-wave1_T1w.nii.gz /tmp/sub-104_ses-wave1_T1w_brain -m\n"
     ]
    }
   ],
   "source": [
    "output_dir=\"/tmp\"\n",
    "for input_file in glob(\"/Users/theresacheng/Documents/learning/neuroimaging/fmriRepro_UNC2017/data/bids-test/sub-*/ses-wave1/anat/*_T1w.nii.gz\"):\n",
    "    my_cmd_template = \"bet {input_file} {output_file} -m\"\n",
    "    directory, file_name = os.path.split(input_file) # splits the input_file into directory and file name\n",
    "    list_of_tokens = file_name.split(\".\") # takes the file name and separates by period\n",
    "    out_file_name = list_of_tokens[0] + \"_brain\" #takes the first item in file_name and adds _brain to the output file name\n",
    "    out_path = os.path.join(output_dir, out_file_name) # add the output directory to the output filename \n",
    "    cmd= my_cmd_template.format(input_file=input_file, output_file=out_path)\n",
    "    print(cmd)\n",
    "    check_call(cmd, shell=True)"
   ]
  },
  {
   "cell_type": "code",
   "execution_count": 12,
   "metadata": {
    "collapsed": false
   },
   "outputs": [
    {
     "name": "stdout",
     "output_type": "stream",
     "text": [
      "/tmp/sub-104_ses-wave1_T1w_brain.nii.gz\r\n"
     ]
    }
   ],
   "source": [
    "!ls /tmp/sub-104_ses-wave1_T1w_brain.nii.gz"
   ]
  },
  {
   "cell_type": "code",
   "execution_count": 8,
   "metadata": {
    "collapsed": false
   },
   "outputs": [
    {
     "name": "stdout",
     "output_type": "stream",
     "text": [
      "racoon is the best animal\n",
      "unicandycorn is the best animal\n"
     ]
    }
   ],
   "source": [
    "template = \"{animal_name} is the best animal\" # wiggly brackets tell you that it's a template\n",
    "print(template.format(animal_name=\"racoon\"))\n",
    "print(template.format(animal_name=\"unicandycorn\"))"
   ]
  },
  {
   "cell_type": "code",
   "execution_count": 9,
   "metadata": {
    "collapsed": false
   },
   "outputs": [
    {
     "name": "stdout",
     "output_type": "stream",
     "text": [
      "\r\n",
      "Usage:    bet <input> <output> [options]\r\n",
      "\r\n",
      "Main bet2 options:\r\n",
      "  -o          generate brain surface outline overlaid onto original image\r\n",
      "  -m          generate binary brain mask\r\n",
      "  -s          generate approximate skull image\r\n",
      "  -n          don't generate segmented brain image output\r\n",
      "  -f <f>      fractional intensity threshold (0->1); default=0.5; smaller values give larger brain outline estimates\r\n",
      "  -g <g>      vertical gradient in fractional intensity threshold (-1->1); default=0; positive values give larger brain outline at bottom, smaller at top\r\n",
      "  -r <r>      head radius (mm not voxels); initial surface sphere is set to half of this\r\n",
      "  -c <x y z>  centre-of-gravity (voxels not mm) of initial mesh surface.\r\n",
      "  -t          apply thresholding to segmented brain image and mask\r\n",
      "  -e          generates brain surface as mesh in .vtk format\r\n",
      "\r\n",
      "Variations on default bet2 functionality (mutually exclusive options):\r\n",
      "  (default)   just run bet2\r\n",
      "  -R          robust brain centre estimation (iterates BET several times)\r\n",
      "  -S          eye & optic nerve cleanup (can be useful in SIENA)\r\n",
      "  -B          bias field & neck cleanup (can be useful in SIENA)\r\n",
      "  -Z          improve BET if FOV is very small in Z (by temporarily padding end slices)\r\n",
      "  -F          apply to 4D FMRI data (uses -f 0.3 and dilates brain mask slightly)\r\n",
      "  -A          run bet2 and then betsurf to get additional skull and scalp surfaces (includes registrations)\r\n",
      "  -A2 <T2>    as with -A, when also feeding in non-brain-extracted T2 (includes registrations)\r\n",
      "\r\n",
      "Miscellaneous options:\r\n",
      "  -v          verbose (switch on diagnostic messages)\r\n",
      "  -h          display this help, then exits\r\n",
      "  -d          debug (don't delete temporary intermediate images)\r\n",
      "\r\n"
     ]
    }
   ],
   "source": [
    "!bet"
   ]
  },
  {
   "cell_type": "code",
   "execution_count": null,
   "metadata": {
    "collapsed": true
   },
   "outputs": [],
   "source": []
  }
 ],
 "metadata": {
  "kernelspec": {
   "display_name": "Python 3",
   "language": "python",
   "name": "python3"
  },
  "language_info": {
   "codemirror_mode": {
    "name": "ipython",
    "version": 3
   },
   "file_extension": ".py",
   "mimetype": "text/x-python",
   "name": "python",
   "nbconvert_exporter": "python",
   "pygments_lexer": "ipython3",
   "version": "3.6.0"
  }
 },
 "nbformat": 4,
 "nbformat_minor": 2
}
